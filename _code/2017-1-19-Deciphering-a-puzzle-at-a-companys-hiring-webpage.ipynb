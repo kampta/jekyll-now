{
 "cells": [
  {
   "cell_type": "markdown",
   "metadata": {},
   "source": [
    "# Deciphering a puzzle from a company's hiring page I came across\n",
    "\n",
    "A friend asked me to look at a puzzle at the hiring page of a company he was applying to. Here is my attempt to the problem. Haven't seen the problem before, so I am not sure if I solved it completely, but sharing my attempt here.\n",
    "\n",
    "## Information Provided\n",
    "A zipped folder containing a text file and 2 images with following content.\n",
    "\n",
    "* A string of characters (A, T, C and G)\n",
    "<img src=\"CipherAndKey/DNAFragment.png\" width=\"500\">\n",
    "* A wheel with some decoding information\n",
    "<img src=\"CipherAndKey/KEY-01.jpg\" width=\"500\">\n",
    "* A key that indicates use of enigma\n",
    "<img src=\"CipherAndKey/KEY-02.jpg\" width=\"500\">"
   ]
  },
  {
   "cell_type": "markdown",
   "metadata": {},
   "source": [
    "## Step 1. Decoding codons\n",
    "\n",
    "Looking at the string, we can immediately observe a message encrypted in language of nucleotides (A, T, C and G). I happen to know a sequence of **three** DNA or RNA nucleotides corresponds to a specific amino acid."
   ]
  },
  {
   "cell_type": "code",
   "execution_count": 69,
   "metadata": {
    "collapsed": false
   },
   "outputs": [
    {
     "name": "stdout",
     "output_type": "stream",
     "text": [
      "825\n"
     ]
    }
   ],
   "source": [
    "GivenString = \"GGCTACTAACATGCCTTTCAACTTCCAGGGTTACTGTCAGGGTACTTATGCTCGCATTTACAAGGGCCCTACTCACTGTCAGAAGGGCTTTGGTCTTCAGGGCAATTCAAAAGAGAACCTACCGATCAATCCATCAGAGAACGAGCTTGGATGTGATACCCCTCACGCAGAAACGGCAGTTTGCATGTGGCGCGACAAAGCACCGCTTACGGAATGGATGTCGGGTGTCCGGGATACACTACTGGCTATAACATTCTGTATCAAGGCTCGGGTCGTATGGGTTAGGATGAGGTAGATCTAGAAGCTTTTCTTCCAGGGCCTCTTTTCTACGAGCGAGCCGCGATACACTCAGAATTGCAGCGTACCCTTTCTTGGATTTAACCAAATAAGCATTACCATCTAAACCATAGATATCAATAAACTGAAATGACACCTGCCGTCGGTTCTACCCGATGCGAATGGTTGAATCCGACGCAATTGACGATTCCAGGCCGGGGCACTATGCAGACGCAAAACCAAAATTTGTAATACATGCGCGGGATGCGGTGTAGAGATCTTTAGACGCTAGCCGCTCGGAAAATGTGTTGGTTTTGCCCGTCAGGGCCCTACTCAGGGTCATGGTAATATTGATTAGACGGGTCCCTGCTTCTCGGGCCACCTGGGTTAGGGTTCCAGCCCGTCCAATAGCTAGGTTTTTGATTATAATGCGGGTTACCCGGGTTATACTGACACTGCCCGCTACTATAAAATTCTCCACTGTCATCGTAACCCGAATCTCTTTGATTCTCACTTACTGTCGACGGCTCGGTTCTTCCAAGCACTGCA\"\n",
    "print(len(GivenString))"
   ]
  },
  {
   "cell_type": "markdown",
   "metadata": {},
   "source": [
    "Provided string is a multiple of three. Seems promising. Lets build a hashmap out of the wheel provided. What seems apparent is outmost letter is encoded by sequence of letters from center to periphery (or vice versa)."
   ]
  },
  {
   "cell_type": "code",
   "execution_count": 70,
   "metadata": {
    "collapsed": false
   },
   "outputs": [],
   "source": [
    "import string\n",
    "\n",
    "charlist = [chr(9658), chr(9608)]+ \\\n",
    "    list(string.ascii_uppercase)+ \\\n",
    "    list([str(x) for x in range(10)])+ \\\n",
    "    list(\"~!@#$%^&*()-+{}\\/<>,.?:;` \")\n",
    "    \n",
    "x = 'TCAG'\n",
    "symbollist = [k+j+i for k in x for j in x for i in x]\n",
    "\n",
    "mapping = dict(zip(symbollist, charlist))"
   ]
  },
  {
   "cell_type": "markdown",
   "metadata": {},
   "source": [
    "Now that we have a hashmap. Lets try to decode the string provided."
   ]
  },
  {
   "cell_type": "code",
   "execution_count": 71,
   "metadata": {
    "collapsed": false
   },
   "outputs": [],
   "source": [
    "DecodedString = ''\n",
    "for i in range(0,len(GivenString),3):\n",
    "    decode = mapping[GivenString[i:i+3]]\n",
    "    DecodedString += decode"
   ]
  },
  {
   "cell_type": "code",
   "execution_count": 72,
   "metadata": {
    "collapsed": false
   },
   "outputs": [
    {
     "data": {
      "text/plain": [
       "';HIW\\\\►YOU ARE HALFWAY THERE. ONCE Y█$*.S9>YD5*.2}N7MHTE1*#;^BW{<2Y&9}H`7>- KV`H88;G#4RGY;F:07:J>?+>Q.}►OU SO█H?2\\\\<6XE.BZ09OCN4IU@%WHWQ#W*GYI8.7~S\\\\-:C92L.NB@V!YB!4U;3;87Z!Y#Y@BIH71 73K*>OJ!Q\\\\}3$7KN►LVE THE ENIGMA, DROP US A █ZT-YJQ:►MAIL AT AHMXLVQQI@CUREFIT.COM█EO8-,;F)OU&8/'"
      ]
     },
     "execution_count": 72,
     "metadata": {},
     "output_type": "execute_result"
    }
   ],
   "source": [
    "DecodedString"
   ]
  },
  {
   "cell_type": "markdown",
   "metadata": {},
   "source": [
    "Not quite perfect, but you can make out some words\n",
    "\n",
    "\"YOU ARE HALFWAY THERE.\"\n",
    "\n",
    "\"LVE THE ENIGMA\"\n",
    "\n",
    "\"DROP US A █ZT-YJQ:►MAIL AT AHMXLVQQI@CUREFIT.COM\""
   ]
  },
  {
   "cell_type": "markdown",
   "metadata": {},
   "source": [
    "## Step 2. Enigma\n",
    "\n",
    "Now I am no cryptography expert, but given they have some nice bunch of keys in one of the images, next logical step is to try out enigma cipher. A simple google search leads you to these nice folks by the name of [Practical Cryptography](http://practicalcryptography.com/ciphers/enigma-cipher/).\n",
    "\n",
    "They have an online tool to encrypt/decrypt things with enigma. I tried multiple parts of above string in their website. What I think is a possible solution is to decode part in the e-mail address.\n",
    "\n",
    "<img src=\"CipherAndKey/Decrypted-01.png\" width=\"300\">\n",
    "\n",
    "Seems alright. I guess I have got the e-mail address alright. Didn't try sending them e-mail yet. Didn't try solving the meaning of rest of the sentence as well. If any of you figure it out, let me know in the comments."
   ]
  }
 ],
 "metadata": {
  "kernelspec": {
   "display_name": "Python [conda root]",
   "language": "python",
   "name": "conda-root-py"
  },
  "language_info": {
   "codemirror_mode": {
    "name": "ipython",
    "version": 3
   },
   "file_extension": ".py",
   "mimetype": "text/x-python",
   "name": "python",
   "nbconvert_exporter": "python",
   "pygments_lexer": "ipython3",
   "version": "3.5.2"
  }
 },
 "nbformat": 4,
 "nbformat_minor": 1
}
